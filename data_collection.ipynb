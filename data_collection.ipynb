{
 "cells": [
  {
   "cell_type": "markdown",
   "id": "e08fbc89",
   "metadata": {},
   "source": [
    "# Code below are the \"main\" functions, what I run to execute data collection"
   ]
  },
  {
   "cell_type": "code",
   "execution_count": 1,
   "id": "67fa7d3b",
   "metadata": {
    "scrolled": true
   },
   "outputs": [
    {
     "ename": "ModuleNotFoundError",
     "evalue": "No module named 'Maxpreps'",
     "output_type": "error",
     "traceback": [
      "\u001b[1;31m---------------------------------------------------------------------------\u001b[0m",
      "\u001b[1;31mModuleNotFoundError\u001b[0m                       Traceback (most recent call last)",
      "Input \u001b[1;32mIn [1]\u001b[0m, in \u001b[0;36m<cell line: 1>\u001b[1;34m()\u001b[0m\n\u001b[1;32m----> 1\u001b[0m \u001b[38;5;28;01mimport\u001b[39;00m \u001b[38;5;21;01mMaxpreps\u001b[39;00m\u001b[38;5;21;01m.\u001b[39;00m\u001b[38;5;21;01mpy\u001b[39;00m\n\u001b[0;32m      2\u001b[0m \u001b[38;5;28;01mimport\u001b[39;00m \u001b[38;5;21;01mOn3_website\u001b[39;00m\u001b[38;5;21;01m.\u001b[39;00m\u001b[38;5;21;01mpy\u001b[39;00m\n\u001b[0;32m      3\u001b[0m \u001b[38;5;28;01mimport\u001b[39;00m \u001b[38;5;21;01mrequests\u001b[39;00m\n",
      "\u001b[1;31mModuleNotFoundError\u001b[0m: No module named 'Maxpreps'"
     ]
    }
   ],
   "source": [
    "import Maxpreps.py\n",
    "import On3_website.py\n",
    "import requests\n",
    "from bs4 import BeautifulSoup\n",
    "import pandas as pd\n",
    "import requests\n",
    "from requests.exceptions import HTTPError\n",
    "import numpy as np\n",
    "import re\n",
    "import time\n",
    "import sys\n",
    "from requests.adapters import HTTPAdapter\n",
    "from urllib3.util.retry import Retry"
   ]
  },
  {
   "cell_type": "code",
   "execution_count": 19,
   "id": "898f8350",
   "metadata": {},
   "outputs": [],
   "source": [
    "dfs = []\n",
    "positions = ['qb', 'rb', 'wr', 'te', 'ot', 'iol', 'edge', 'dl', 'lb', 'cb', 's']"
   ]
  },
  {
   "cell_type": "code",
   "execution_count": 20,
   "id": "43299c7f",
   "metadata": {
    "scrolled": false
   },
   "outputs": [
    {
     "name": "stdout",
     "output_type": "stream",
     "text": [
      "Arch Manning 0\n",
      "[]\n",
      "Couldn't find team captain for player above\n",
      "Dante Moore 1\n",
      "[<div class=\"sport\"><div><a class=\"sc-a2e14072-0 hCsilC\" href=\"https://www.maxpreps.com/mi/detroit/king-crusaders/football/22-23/schedule/\" style=\"--data-color:#004ACE;--data-hover-color:#002cb0\">King Varsity Football</a></div><div>#5 • QB</div></div>]\n",
      "Nico Iamaleava 2\n",
      "[<div class=\"sport\"><div><a class=\"sc-a2e14072-0 hCsilC\" href=\"https://www.maxpreps.com/ca/downey/warren-bears/football/21-22/schedule/\" style=\"--data-color:#004ACE;--data-hover-color:#002cb0\">Warren Varsity Football</a></div><div>#8 • QB</div></div>]\n",
      "Jackson Arnold 3\n",
      "[<div class=\"sport\"><div><a class=\"sc-a2e14072-0 hCsilC\" href=\"https://www.maxpreps.com/tx/denton/guyer-wildcats/football/22-23/schedule/\" style=\"--data-color:#004ACE;--data-hover-color:#002cb0\">Guyer Varsity Football</a></div><div>#11 • QB</div></div>]\n",
      "Malachi Nelson 4\n",
      "[<div class=\"sport\"><div><a class=\"sc-a2e14072-0 hCsilC\" href=\"https://www.maxpreps.com/ca/los-alamitos/los-alamitos-griffins/football/21-22/schedule/\" style=\"--data-color:#004ACE;--data-hover-color:#002cb0\">Los Alamitos Varsity Football</a></div><div>#7 • QB</div></div>]\n",
      "Jaden Rashada 5\n",
      "[]\n",
      "Couldn't find team captain for player above\n",
      "Eli Holstein 6\n"
     ]
    },
    {
     "ename": "KeyboardInterrupt",
     "evalue": "",
     "output_type": "error",
     "traceback": [
      "\u001b[1;31m---------------------------------------------------------------------------\u001b[0m",
      "\u001b[1;31mKeyboardInterrupt\u001b[0m                         Traceback (most recent call last)",
      "Input \u001b[1;32mIn [20]\u001b[0m, in \u001b[0;36m<cell line: 6>\u001b[1;34m()\u001b[0m\n\u001b[0;32m     20\u001b[0m \u001b[38;5;28mprint\u001b[39m(name, i) \u001b[38;5;66;03m#shows the player collecting data for\u001b[39;00m\n\u001b[0;32m     21\u001b[0m \u001b[38;5;28;01mtry\u001b[39;00m:\n\u001b[1;32m---> 22\u001b[0m     \u001b[43mtime\u001b[49m\u001b[38;5;241;43m.\u001b[39;49m\u001b[43msleep\u001b[49m\u001b[43m(\u001b[49m\u001b[38;5;241;43m2.5\u001b[39;49m\u001b[43m \u001b[49m\u001b[38;5;241;43m+\u001b[39;49m\u001b[43m \u001b[49m\u001b[38;5;241;43m0.02\u001b[39;49m\u001b[43m \u001b[49m\u001b[38;5;241;43m*\u001b[39;49m\u001b[43m \u001b[49m\u001b[43mi\u001b[49m\u001b[43m)\u001b[49m\n\u001b[0;32m     23\u001b[0m     soup \u001b[38;5;241m=\u001b[39m get_first_google_result(name \u001b[38;5;241m+\u001b[39m \u001b[38;5;124m\"\u001b[39m\u001b[38;5;124m \u001b[39m\u001b[38;5;124m\"\u001b[39m \u001b[38;5;241m+\u001b[39m position_dfs[pos]\u001b[38;5;241m.\u001b[39mat[i, \u001b[38;5;124m'\u001b[39m\u001b[38;5;124mOn3SchN\u001b[39m\u001b[38;5;124m'\u001b[39m] \u001b[38;5;241m+\u001b[39m \u001b[38;5;124m\"\u001b[39m\u001b[38;5;124m maxpreps\u001b[39m\u001b[38;5;124m\"\u001b[39m)\n\u001b[0;32m     24\u001b[0m     school_name \u001b[38;5;241m=\u001b[39m soup\u001b[38;5;241m.\u001b[39mfind(\u001b[38;5;124m'\u001b[39m\u001b[38;5;124mdiv\u001b[39m\u001b[38;5;124m'\u001b[39m, class_ \u001b[38;5;241m=\u001b[39m \u001b[38;5;124m'\u001b[39m\u001b[38;5;124mschool-name\u001b[39m\u001b[38;5;124m'\u001b[39m)\n",
      "\u001b[1;31mKeyboardInterrupt\u001b[0m: "
     ]
    }
   ],
   "source": [
    "off_positions = ['QB', 'RB', 'WR', 'TE', 'T', 'C', 'G']\n",
    "def_positions = ['DE', 'CB', 'FS', 'SS', 'DT', 'MLB', 'OLB']\n",
    "maxpreps_positions = np.concatenate((off_positions, def_positions))\n",
    "years = [2023, 2024, 2025, 2026]\n",
    "\n",
    "for year in years:\n",
    "    for pos in positions:\n",
    "        position_dfs = {}\n",
    "        dfs = []\n",
    "        for i in range(1, 6):\n",
    "            url = f\"https://www.on3.com/db/rankings/industry-comparison/football/{year}/?position={pos}&page={i}\"\n",
    "            dfs.append(get_player_ratings_and_school(url))\n",
    "\n",
    "        position_dfs[pos] = pd.concat(dfs)\n",
    "        position_dfs[pos].reset_index(drop=True, inplace=True)\n",
    "        names = list(position_dfs[pos][\"Player_Name\"])\n",
    "        #set up dataframe\n",
    "\n",
    "        for i, name in enumerate(names):\n",
    "            print(name, i) #shows the player collecting data for\n",
    "            try:\n",
    "                time.sleep(2.5 + 0.02 * i)\n",
    "                soup = get_first_google_result(name + \" \" + position_dfs[pos].at[i, 'On3SchN'] + \" maxpreps\")\n",
    "                school_name = soup.find('div', class_ = 'school-name')\n",
    "                school_loc = soup.find('div', class_ = \"location\")\n",
    "                if school_name and school_loc:\n",
    "                    position_dfs[pos].at[i, \"MPSchN\"] = school_name.text + school_loc.text\n",
    "                #assign school name\n",
    "                \n",
    "                jersey_pos = find_pos_on_maxpreps(name, soup, pos) \n",
    "                position_dfs[pos].at[i, \"On3_position\"] = pos\n",
    "                fill_df_position_inplace(position_dfs[pos])\n",
    "                #assign player position\n",
    "                try:\n",
    "                    position_dfs[pos].at[i, \"Team_Captain\"] = get_team_captain(soup)\n",
    "                    position_dfs[pos].at[i, \"MPTmRtg\"] = get_team_rating(soup)\n",
    "                    position_dfs[pos].at[i, \"MP_potg_count\"], position_dfs[pos].at[i, \"MP_potg_count_total\"] = get_mp_potg(soup)\n",
    "                    position_dfs[pos].at[i, \"conference_name\"] = get_mp_confName(soup)\n",
    "                    #assign more player info\n",
    "                except TypeError:\n",
    "                    fill_df_error_inplace(position_dfs, pos, 'TypeError')\n",
    "\n",
    "            except HTTPError:\n",
    "                print('Error encountered')\n",
    "                fill_df_error_inplace(position_dfs, pos, 'HTTPError')\n",
    "\n",
    "            if i % 40 == 0:\n",
    "                time.sleep(10 + 0.05 * i)\n",
    "\n",
    "        position_dfs[pos].to_csv(f\"new_{year}_\" + pos + \"_ratings.csv\", index=False)"
   ]
  }
 ],
 "metadata": {
  "kernelspec": {
   "display_name": "Python 3 (ipykernel)",
   "language": "python",
   "name": "python3"
  },
  "language_info": {
   "codemirror_mode": {
    "name": "ipython",
    "version": 3
   },
   "file_extension": ".py",
   "mimetype": "text/x-python",
   "name": "python",
   "nbconvert_exporter": "python",
   "pygments_lexer": "ipython3",
   "version": "3.9.12"
  }
 },
 "nbformat": 4,
 "nbformat_minor": 5
}
